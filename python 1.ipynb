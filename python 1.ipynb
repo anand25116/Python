{
  "nbformat": 4,
  "nbformat_minor": 0,
  "metadata": {
    "colab": {
      "provenance": []
    },
    "kernelspec": {
      "name": "python3",
      "display_name": "Python 3"
    },
    "language_info": {
      "name": "python"
    }
  },
  "cells": [
    {
      "cell_type": "markdown",
      "source": [
        "# 🐍 Python Basics – Beginner Notes\n",
        "\n",
        "## 1. Introduction to Python\n",
        "- Python is a **high-level, interpreted language**.\n",
        "- Known for its **simplicity and readability**.\n",
        "- Used in **AI/ML, web development, automation, data science**, etc.\n"
      ],
      "metadata": {
        "id": "9H9LtmsP_6cR"
      }
    },
    {
      "cell_type": "code",
      "source": [
        "# Writing Your First Python Program\n",
        "print(\"Hello, World!\")"
      ],
      "metadata": {
        "colab": {
          "base_uri": "https://localhost:8080/"
        },
        "id": "frOV6rQp_-hq",
        "outputId": "89e4dab5-ba8d-463f-8493-488d4df1ead5"
      },
      "execution_count": 2,
      "outputs": [
        {
          "output_type": "stream",
          "name": "stdout",
          "text": [
            "Hello, World!\n"
          ]
        }
      ]
    },
    {
      "cell_type": "code",
      "source": [
        "# Variables and Data Types\n",
        "\n",
        "name = \"Anand\"      # String\n",
        "age = 25            # Integer\n",
        "height = 5.9        # Float\n",
        "is_student = True   # Boolean\n",
        "\n",
        "print(name, age, height, is_student)"
      ],
      "metadata": {
        "colab": {
          "base_uri": "https://localhost:8080/"
        },
        "id": "DbcvT4iVANYb",
        "outputId": "4e1d3310-314a-4f37-c10f-77014c802bf5"
      },
      "execution_count": 3,
      "outputs": [
        {
          "output_type": "stream",
          "name": "stdout",
          "text": [
            "Anand 25 5.9 True\n"
          ]
        }
      ]
    },
    {
      "cell_type": "code",
      "source": [
        "# Basic Arithmetic Operations\n",
        "\n",
        "a = 10\n",
        "b = 3\n",
        "\n",
        "print(a + b)  # Addition\n",
        "print(a - b)  # Subtraction\n",
        "print(a * b)  # Multiplication\n",
        "print(a / b)  # Division (float)\n",
        "print(a // b) # Floor Division\n",
        "print(a % b)  # Modulus\n",
        "print(a ** b) # Exponentiation\n"
      ],
      "metadata": {
        "colab": {
          "base_uri": "https://localhost:8080/"
        },
        "id": "42Vzs5kyAPb_",
        "outputId": "b48063bb-d8bf-4069-84b0-14277b882908"
      },
      "execution_count": 4,
      "outputs": [
        {
          "output_type": "stream",
          "name": "stdout",
          "text": [
            "13\n",
            "7\n",
            "30\n",
            "3.3333333333333335\n",
            "3\n",
            "1\n",
            "1000\n"
          ]
        }
      ]
    },
    {
      "cell_type": "code",
      "source": [
        "# Taking User Input\n",
        "\n",
        "name = input(\"Enter your name: \")\n",
        "print(\"Hello,\", name)"
      ],
      "metadata": {
        "colab": {
          "base_uri": "https://localhost:8080/"
        },
        "id": "Bklt1B3PAVAT",
        "outputId": "993da04e-2073-41fe-db2b-5e7665a599b4"
      },
      "execution_count": 5,
      "outputs": [
        {
          "output_type": "stream",
          "name": "stdout",
          "text": [
            "Enter your name: Anand\n",
            "Hello, Anand\n"
          ]
        }
      ]
    },
    {
      "cell_type": "code",
      "source": [
        "# Conditional Statements\n",
        "for age in range(3):\n",
        "  age = int(input(\"Enter your age: \"))\n",
        "\n",
        "  if age >= 18:\n",
        "      print(\"You are an adult.\")\n",
        "  else:\n",
        "      print(\"You are a minor.\")\n"
      ],
      "metadata": {
        "colab": {
          "base_uri": "https://localhost:8080/"
        },
        "id": "88vi8ex5Aed6",
        "outputId": "ae4a662d-e575-4480-bca1-887d66a4d480"
      },
      "execution_count": 11,
      "outputs": [
        {
          "output_type": "stream",
          "name": "stdout",
          "text": [
            "Enter your age: 17\n",
            "You are a minor.\n",
            "Enter your age: 18\n",
            "You are an adult.\n",
            "Enter your age: 19\n",
            "You are an adult.\n"
          ]
        }
      ]
    },
    {
      "cell_type": "code",
      "source": [
        "#Loops\n",
        "\n",
        "# For Loop\n",
        "for i in range(5):\n",
        "    print(\"Iteration:\", i)\n",
        "\n",
        "# While Loop\n",
        "count = 0\n",
        "while count < 5:\n",
        "    print(\"Count:\", count)\n",
        "    count += 1\n",
        "\n",
        "# While Loop\n",
        "counts = 0\n",
        "while counts < 5:\n",
        "  print(\"Counts:\", counts)\n",
        "  counts += 2"
      ],
      "metadata": {
        "colab": {
          "base_uri": "https://localhost:8080/"
        },
        "id": "aBVU-nkkAj20",
        "outputId": "93436413-2d8b-4bf1-b7e0-225563683699"
      },
      "execution_count": 14,
      "outputs": [
        {
          "output_type": "stream",
          "name": "stdout",
          "text": [
            "Iteration: 0\n",
            "Iteration: 1\n",
            "Iteration: 2\n",
            "Iteration: 3\n",
            "Iteration: 4\n",
            "Count: 0\n",
            "Count: 1\n",
            "Count: 2\n",
            "Count: 3\n",
            "Count: 4\n",
            "Counts: 0\n",
            "Counts: 2\n",
            "Counts: 4\n"
          ]
        }
      ]
    },
    {
      "cell_type": "code",
      "source": [
        "# Functions\n",
        "\n",
        "def greet(name):\n",
        "  print(\"Hello\",name)\n",
        "\n",
        "name = input(\"What is your name:\")\n",
        "greet(name)"
      ],
      "metadata": {
        "colab": {
          "base_uri": "https://localhost:8080/"
        },
        "id": "hYZdXycRAoaC",
        "outputId": "a4db4bad-683f-4b08-aa49-6d623d695fd6"
      },
      "execution_count": 15,
      "outputs": [
        {
          "output_type": "stream",
          "name": "stdout",
          "text": [
            "What is your name:Anand\n",
            "Hello Anand\n"
          ]
        }
      ]
    },
    {
      "cell_type": "code",
      "source": [
        "# Lists (Basic Data Structure)\n",
        "\n",
        "fruits = [\"Apple\", \"Banana\", \"Kiwi\"]\n",
        "print(fruits)\n",
        "print(fruits[1])\n",
        "fruits.append(\"Mango\")\n",
        "print(fruits)\n",
        "fruits.remove(\"Banana\")\n",
        "print(fruits)"
      ],
      "metadata": {
        "colab": {
          "base_uri": "https://localhost:8080/"
        },
        "id": "M6XuQxJtArmm",
        "outputId": "e43a7c70-64ca-437d-9123-00db7d7f6016"
      },
      "execution_count": 16,
      "outputs": [
        {
          "output_type": "stream",
          "name": "stdout",
          "text": [
            "['Apple', 'Banana', 'Kiwi']\n",
            "Banana\n",
            "['Apple', 'Banana', 'Kiwi', 'Mango']\n",
            "['Apple', 'Kiwi', 'Mango']\n"
          ]
        }
      ]
    },
    {
      "cell_type": "markdown",
      "source": [
        "# 🐍 Step 1: Core Data Structures in Python\n",
        "\n",
        "In this section, we will learn about:\n",
        "- Strings\n",
        "- Lists\n",
        "- Tuples\n",
        "- Sets\n",
        "- Dictionaries\n",
        "\n",
        "These are the backbone of Python programming.\n"
      ],
      "metadata": {
        "id": "bDh_J2DNCNiA"
      }
    },
    {
      "cell_type": "markdown",
      "source": [
        "## 📌 1. Strings\n",
        "- A string is a sequence of characters enclosed in quotes.\n",
        "- Strings are **immutable** (cannot be changed directly).\n",
        "- Common operations: slicing, concatenation, formatting, built-in methods.\n"
      ],
      "metadata": {
        "id": "FUKIOOBsCRM1"
      }
    },
    {
      "cell_type": "code",
      "source": [
        "# Creating a string\n",
        "text = \"Hello, Python!\"\n",
        "\n",
        "# String indexing\n",
        "print(text[0])    # First character\n",
        "print(text[-1])   # Last character\n",
        "\n",
        "# String slicing\n",
        "print(text[0:5])  # Substring \"Hello\"\n",
        "\n",
        "# String methods\n",
        "print(text.upper())    # Uppercase\n",
        "print(text.lower())    # Lowercase\n",
        "print(text.replace(\"Python\", \"World\"))  # Replace\n",
        "print(text.split(\",\")) # Split into list\n"
      ],
      "metadata": {
        "colab": {
          "base_uri": "https://localhost:8080/"
        },
        "id": "WGNBqGuuCVDZ",
        "outputId": "d0c462e0-8a8f-43bd-8ae5-541fa809268d"
      },
      "execution_count": 26,
      "outputs": [
        {
          "output_type": "stream",
          "name": "stdout",
          "text": [
            "H\n",
            "!\n",
            "Hello\n",
            "HELLO, PYTHON!\n",
            "hello, python!\n",
            "Hello, World!\n",
            "['Hello', ' Python!']\n"
          ]
        }
      ]
    },
    {
      "cell_type": "markdown",
      "source": [
        "## 📌 2. Lists\n",
        "- A list is an **ordered collection** of items.\n",
        "- Lists are **mutable** (we can change them).\n",
        "- Useful for storing multiple values.\n",
        "\n",
        "## list[start:end:step]\n",
        "- start → index to start from (default 0)\n",
        "- end   → index to go up to but not include (default end of list)\n",
        "- step  → how many indices to skip (default 1)\n"
      ],
      "metadata": {
        "id": "7_tJtWXKDQL5"
      }
    },
    {
      "cell_type": "code",
      "source": [
        "fruits = [\"apple\", \"banana\", \"cherry\", \"mango\", \"kiwi\"]\n",
        "\n",
        "print(fruits[0])   # First item\n",
        "print(fruits[-1])  # Last item\n",
        "\n",
        "# 1. Basic Slicing\n",
        "print(fruits[0:2])  # Items from index 0 up to (but not including) 2 → ['apple', 'banana']\n",
        "# 2. Slicing with omitted start or end\n",
        "print(fruits[:3])   # From start to index 2 → ['apple', 'banana', 'cherry']\n",
        "print(fruits[2:])   # From index 2 to end → ['cherry', 'mango', 'kiwi']\n",
        "print(fruits[:])    # Entire list → ['apple', 'banana', 'cherry', 'mango', 'kiwi']\n",
        "# 3. Slicing with negative indices\n",
        "print(fruits[-3:])  # Last 3 items → ['cherry', 'mango', 'kiwi']\n",
        "print(fruits[:-2])  # All except last 2 → ['apple', 'banana', 'cherry']\n",
        "# 4. Slicing with a step\n",
        "print(fruits[0:5:2])  # Start at 0, go up to 5, step 2 → ['apple', 'cherry', 'kiwi']\n",
        "print(fruits[::2])    # Entire list, take every 2nd item → ['apple', 'cherry', 'kiwi']\n",
        "# 5. Reversing a list using slicing\n",
        "print(fruits[::-1])  # Reverse the list → ['kiwi', 'mango', 'cherry', 'banana', 'apple']\n",
        "# 6. Combining negative indices and step\n",
        "print(fruits[-1:-6:-2])  # Start from last, go backwards, step 2 → ['kiwi', 'cherry', 'apple']\n",
        "\n",
        "# Adding elements\n",
        "fruits.append(\"mango\")\n",
        "print(fruits)\n",
        "\n",
        "# Removing elements\n",
        "fruits.remove(\"banana\")\n",
        "print(fruits)\n",
        "\n",
        "# List comprehension (make a list of squares)\n",
        "squares = [x**2 for x in range(5)]\n",
        "print(squares)\n"
      ],
      "metadata": {
        "colab": {
          "base_uri": "https://localhost:8080/"
        },
        "id": "9CnKukhNDR76",
        "outputId": "794b4694-d65a-4aa0-f764-ea4be532cc48"
      },
      "execution_count": 37,
      "outputs": [
        {
          "output_type": "stream",
          "name": "stdout",
          "text": [
            "apple\n",
            "kiwi\n",
            "['apple', 'banana']\n",
            "['apple', 'banana', 'cherry']\n",
            "['cherry', 'mango', 'kiwi']\n",
            "['apple', 'banana', 'cherry', 'mango', 'kiwi']\n",
            "['cherry', 'mango', 'kiwi']\n",
            "['apple', 'banana', 'cherry']\n",
            "['apple', 'cherry', 'kiwi']\n",
            "['apple', 'cherry', 'kiwi']\n",
            "['kiwi', 'mango', 'cherry', 'banana', 'apple']\n",
            "['kiwi', 'cherry', 'apple']\n",
            "['apple', 'banana', 'cherry', 'mango', 'kiwi', 'mango']\n",
            "['apple', 'cherry', 'mango', 'kiwi', 'mango']\n",
            "[0, 1, 4, 9, 16]\n"
          ]
        }
      ]
    },
    {
      "cell_type": "markdown",
      "source": [
        "## 📌 3. Tuples\n",
        "- A tuple is like a list, but **immutable** (cannot change once created).\n",
        "- Useful for fixed collections of items.\n"
      ],
      "metadata": {
        "id": "UWd2aRleGSfj"
      }
    },
    {
      "cell_type": "code",
      "source": [
        "# Creating a tuple\n",
        "coordinates = (10, 20)\n",
        "\n",
        "# Accessing elements\n",
        "print(coordinates[0])  # 10\n",
        "\n",
        "# Tuple unpacking\n",
        "x, y = coordinates\n",
        "print(\"x =\", x, \"y =\", y)\n",
        "\n",
        "# Tuples cannot be changed\n",
        "# coordinates[0] = 50  # ❌ This will give an error\n"
      ],
      "metadata": {
        "colab": {
          "base_uri": "https://localhost:8080/"
        },
        "id": "uTMS4SMTGT4X",
        "outputId": "8dede4a3-88b1-47d1-c3be-854f5d56e43c"
      },
      "execution_count": 38,
      "outputs": [
        {
          "output_type": "stream",
          "name": "stdout",
          "text": [
            "10\n",
            "x = 10 y = 20\n"
          ]
        }
      ]
    },
    {
      "cell_type": "markdown",
      "source": [
        "## 📌 4. Sets\n",
        "- A set is an **unordered collection** of unique items.\n",
        "- Useful for removing duplicates and performing mathematical set operations.\n"
      ],
      "metadata": {
        "id": "y2PcsgQgGafQ"
      }
    },
    {
      "cell_type": "code",
      "source": [
        "# Creating sets\n",
        "numbers= {1,2,3,3,4}\n",
        "print(numbers) #Duplicates are removed\n",
        "# Adding element\n",
        "numbers.add(5)\n",
        "print(numbers)\n",
        "# Removing element\n",
        "numbers.remove(4)\n",
        "print(numbers)\n",
        "# Set operations\n",
        "A = {1,2,4}\n",
        "B= {3,4,5}\n",
        "print(A.union(B)) # Union\n",
        "print(A.intersection(B)) # Intersection\n",
        "# Difference\n",
        "print(A-B)\n",
        "print(B-A)"
      ],
      "metadata": {
        "colab": {
          "base_uri": "https://localhost:8080/"
        },
        "id": "BFvrL2GGG28D",
        "outputId": "d8c6f5bc-2ab1-4716-beba-4a4e2c3b5aa6"
      },
      "execution_count": 48,
      "outputs": [
        {
          "output_type": "stream",
          "name": "stdout",
          "text": [
            "{1, 2, 3, 4}\n",
            "{1, 2, 3, 4, 5}\n",
            "{1, 2, 3, 5}\n",
            "{1, 2, 3, 4, 5}\n",
            "{4}\n",
            "{1, 2}\n",
            "{3, 5}\n"
          ]
        }
      ]
    },
    {
      "cell_type": "markdown",
      "source": [
        "## 📌 5. Dictionaries\n",
        "- A dictionary stores data in **key-value pairs**.\n",
        "- Keys must be unique and immutable.\n",
        "- Very powerful for real-world mappings (like a phonebook).\n"
      ],
      "metadata": {
        "id": "P3ZdeqcmIclF"
      }
    },
    {
      "cell_type": "code",
      "source": [
        "# Creating a dictionary\n",
        "phonebook = {\n",
        "    \"Alice\": \"12345\",\n",
        "    \"Bob\": \"67890\",\n",
        "    \"Charlie\": \"54321\"\n",
        "}\n",
        "\n",
        "# Accessing values\n",
        "print(phonebook[\"Alice\"])        # 12345\n",
        "print(phonebook.get(\"David\"))    # None (safe access)\n",
        "\n",
        "# Adding a new entry\n",
        "phonebook[\"David\"] = \"99999\"\n",
        "print(phonebook)\n",
        "\n",
        "# Iterating through dictionary\n",
        "for name, number in phonebook.items():\n",
        "    print(name, \"->\", number)\n",
        "\n",
        "# Keys and values\n",
        "print(phonebook.keys())\n",
        "print(phonebook.values())\n"
      ],
      "metadata": {
        "colab": {
          "base_uri": "https://localhost:8080/"
        },
        "id": "R9r9FXp5I62f",
        "outputId": "e10bcf21-513b-4a70-af84-a483ac03c0fb"
      },
      "execution_count": 49,
      "outputs": [
        {
          "output_type": "stream",
          "name": "stdout",
          "text": [
            "12345\n",
            "None\n",
            "{'Alice': '12345', 'Bob': '67890', 'Charlie': '54321', 'David': '99999'}\n",
            "Alice -> 12345\n",
            "Bob -> 67890\n",
            "Charlie -> 54321\n",
            "David -> 99999\n",
            "dict_keys(['Alice', 'Bob', 'Charlie', 'David'])\n",
            "dict_values(['12345', '67890', '54321', '99999'])\n"
          ]
        }
      ]
    },
    {
      "cell_type": "markdown",
      "source": [
        "## 🛠 Practice Task: Phonebook App\n",
        "\n",
        "✅ Build a simple phonebook app using dictionaries:\n",
        "- Add contacts\n",
        "- Search for contacts\n",
        "- Display all contacts\n"
      ],
      "metadata": {
        "id": "96oqTRuzJLqh"
      }
    },
    {
      "cell_type": "code",
      "source": [
        "# Simple Phonebook App\n",
        "\n",
        "phonebook = {}\n",
        "\n",
        "def add_contact(name, number):\n",
        "    phonebook[name] = number\n",
        "    print(f\"Contact {name} added.\")\n",
        "\n",
        "def search_contact(name):\n",
        "    if name in phonebook:\n",
        "        print(f\"{name} -> {phonebook[name]}\")\n",
        "    else:\n",
        "        print(f\"{name} not found.\")\n",
        "\n",
        "def display_contacts():\n",
        "    if phonebook:\n",
        "        for name, number in phonebook.items():\n",
        "            print(name, \"->\", number)\n",
        "    else:\n",
        "        print(\"Phonebook is empty.\")\n",
        "\n",
        "# Test\n",
        "add_contact(\"Alice\", \"12345\")\n",
        "add_contact(\"Bob\", \"67890\")\n",
        "search_contact(\"Alice\")\n",
        "display_contacts()\n",
        "a=input(\"Add Contact Name\")\n",
        "b=input(\"Add Contact Number\")\n",
        "add_contact(a,b)\n",
        "display_contacts()\n"
      ],
      "metadata": {
        "colab": {
          "base_uri": "https://localhost:8080/"
        },
        "id": "JwAd4cmFJNiD",
        "outputId": "b84c3543-2cf0-49ea-f914-a71385c7ea45"
      },
      "execution_count": 53,
      "outputs": [
        {
          "output_type": "stream",
          "name": "stdout",
          "text": [
            "Contact Alice added.\n",
            "Contact Bob added.\n",
            "Alice -> 12345\n",
            "Alice -> 12345\n",
            "Bob -> 67890\n",
            "Add Contact NameAnand\n",
            "Add Contact Number23456\n",
            "Contact Anand added.\n",
            "Alice -> 12345\n",
            "Bob -> 67890\n",
            "Anand -> 23456\n"
          ]
        }
      ]
    },
    {
      "cell_type": "markdown",
      "source": [
        "# 💼 Python Basics – Interview Questions & Answers (Theory + Tricky Questions)\n",
        "\n",
        "This notebook contains **all Python basics concepts**, **core data structures**, and **interview questions** with detailed explanations and tricky scenarios.\n",
        "\n",
        "---\n",
        "\n",
        "## 1. Variables and Data Types\n",
        "- Python has built-in data types: **int**, **float**, **str**, **bool**, **list**, **tuple**, **set**, **dict**.  \n",
        "- **Dynamically typed:** No need to declare types; Python infers automatically.  \n",
        "- **Mutable vs Immutable:**  \n",
        "  - **Mutable:** list, dict, set → can change after creation  \n",
        "  - **Immutable:** int, float, str, tuple → cannot change  \n",
        "\n",
        "**Tricky Question:**  \n",
        "- What happens if you try to modify a string? (Strings are immutable → raises an error)  \n",
        "- Can a tuple contain mutable elements? (Yes, e.g., a list inside a tuple)\n",
        "\n",
        "---\n",
        "\n",
        "## 2. Operators and Arithmetic\n",
        "- Arithmetic operators: **+**, **-**, **\\***, **/** (float division), **//** (floor division), **%** (modulus), **\\*\\*** (exponentiation)  \n",
        "- **Tricky Question:** Difference between `5/2`, `5//2`, and `5%2`  \n",
        "  - `/` → 2.5  \n",
        "  - `//` → 2  \n",
        "  - `%` → 1  \n",
        "\n",
        "---\n",
        "\n",
        "## 3. Conditional Statements\n",
        "- Python uses **if, elif, else** to make decisions  \n",
        "- Boolean expressions evaluate to **True or False**  \n",
        "- **Tricky Questions:**  \n",
        "  - Can you write a single-line if-else? (`x = 5 if condition else 10`)  \n",
        "  - What is truthy and falsy in Python? (`0, \"\", None` are falsy; non-zero numbers, non-empty strings are truthy)  \n",
        "\n",
        "---\n",
        "\n",
        "## 4. Loops\n",
        "- **for** loops iterate over sequences (lists, strings, ranges, dictionaries)  \n",
        "- **while** loops run until a condition is False  \n",
        "- **break** → exits the loop  \n",
        "- **continue** → skips current iteration  \n",
        "\n",
        "**Tricky Questions:**  \n",
        "- Can a `for` loop iterate over a dictionary directly? (Yes, iterates over keys by default)  \n",
        "- Difference between `for i in range(5)` and `for i in range(0,5,1)` (Same; step defaults to 1)\n",
        "\n",
        "---\n",
        "\n",
        "## 5. Functions\n",
        "- Defined using **def**  \n",
        "- Can have **default arguments**, **keyword arguments**, **\\*args** (variable-length tuple), **\\*\\*kwargs** (variable-length dictionary)  \n",
        "- **return** outputs a value; **print** only displays  \n",
        "\n",
        "**Tricky Questions:**  \n",
        "- What happens if you return a mutable object and modify it outside? (Original object changes)  \n",
        "- Can functions be assigned to variables? (Yes, functions are first-class objects)\n",
        "\n",
        "---\n",
        "\n",
        "## 6. Strings\n",
        "- **Immutable sequences of characters**  \n",
        "- Support **indexing**, **slicing**, **concatenation**, and **built-in methods** like `upper()`, `lower()`, `replace()`, `split()`  \n",
        "- **F-strings** allow formatted strings  \n",
        "\n",
        "**Tricky Questions:**  \n",
        "- Difference between `\"is\" in \"this\"` and `\"this\".find(\"is\")`  \n",
        "- Can you modify a character inside a string? (No → immutable)  \n",
        "\n",
        "---\n",
        "\n",
        "## 7. Lists\n",
        "- **Ordered, mutable collections**  \n",
        "- Support **add, remove, slice, iterate**  \n",
        "- **List comprehension** allows creating new lists concisely  \n",
        "\n",
        "**Tricky Questions:**  \n",
        "- Difference between `lst = [1]*3` and `[1,1,1]`? (Same content but independent objects)  \n",
        "- Nested lists and shallow vs deep copy  \n",
        "\n",
        "---\n",
        "\n",
        "## 8. Tuples\n",
        "- **Ordered, immutable collections**  \n",
        "- Support **unpacking**  \n",
        "- Can contain mutable elements  \n",
        "\n",
        "**Tricky Questions:**  \n",
        "- Tuple with a single element: `(5,)` → comma is necessary  \n",
        "- Can you modify a list inside a tuple? (Yes, tuple itself is immutable, internal list is mutable)  \n",
        "\n",
        "---\n",
        "\n",
        "## 9. Sets\n",
        "- **Unordered collections of unique elements**  \n",
        "- Useful for **removing duplicates** and **set operations**: union, intersection, difference  \n",
        "\n",
        "**Tricky Questions:**  \n",
        "- Can a set contain a list? (No → sets require immutable elements)  \n",
        "- What happens if you add a duplicate element? (It is ignored)\n",
        "\n",
        "---\n",
        "\n",
        "## 10. Dictionaries\n",
        "- **Key-value pairs**, keys must be **unique and immutable**  \n",
        "- Mutable, can add/remove items  \n",
        "- Iteration: `.items()`, `.keys()`, `.values()`  \n",
        "- `.get(key)` allows safe access  \n",
        "\n",
        "**Tricky Questions:**  \n",
        "- Can a dictionary key be a list? (No → must be immutable)  \n",
        "- What is the order of dictionary keys in Python 3.7+? (Insertion order preserved)  \n",
        "\n",
        "---\n",
        "\n",
        "## 11. Slicing\n",
        "- Syntax: `list[start:end:step]`  \n",
        "  - `start` → starting index (default 0)  \n",
        "  - `end` → ending index, exclusive (default end of list)  \n",
        "  - `step` → interval (default 1)  \n",
        "- Supports **negative indices** and **reversing** (`step=-1`)  \n",
        "\n",
        "**Tricky Questions:**  \n",
        "- What does `lst[::-2]` do? (Reverses list taking every 2nd element)  \n",
        "- What happens if `start > end` with positive step? (Returns empty list)  \n",
        "\n",
        "---\n",
        "\n",
        "## 12. Miscellaneous Concepts\n",
        "- **Mutable vs Immutable:** lists vs tuples, dicts vs strings  \n",
        "- **Dynamic typing:** Python detects variable types automatically  \n",
        "- **`==` vs `is`:** `==` compares values, `is` compares memory location  \n",
        "- **Copying collections:** `lst[:]` or `.copy()`  \n",
        "- **Tricky Questions:**  \n",
        "  - What happens if you compare two different lists with the same content using `is`? (False → different memory locations)  \n",
        "  - Can you use a set as a key in a dictionary? (No → sets are mutable)  \n",
        "  - What are Python’s truthy and falsy values? (`0`, `None`, `\"\"`, `[]`, `{}` are falsy; others are truthy)  \n",
        "\n",
        "---\n",
        "\n",
        "\n"
      ],
      "metadata": {
        "id": "_WCT416iLkpi"
      }
    }
  ]
}