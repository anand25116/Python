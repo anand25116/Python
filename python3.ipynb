{
  "nbformat": 4,
  "nbformat_minor": 0,
  "metadata": {
    "colab": {
      "provenance": [],
      "authorship_tag": "ABX9TyPLoIIcmpb16Q/jiqBsWS1j",
      "include_colab_link": true
    },
    "kernelspec": {
      "name": "python3",
      "display_name": "Python 3"
    },
    "language_info": {
      "name": "python"
    }
  },
  "cells": [
    {
      "cell_type": "markdown",
      "metadata": {
        "id": "view-in-github",
        "colab_type": "text"
      },
      "source": [
        "<a href=\"https://colab.research.google.com/github/anand25116/Python/blob/main/python3.ipynb\" target=\"_parent\"><img src=\"https://colab.research.google.com/assets/colab-badge.svg\" alt=\"Open In Colab\"/></a>"
      ]
    },
    {
      "cell_type": "markdown",
      "source": [
        "# Step 5: File Handling in Python\n",
        "\n",
        "File handling allows Python programs to **read from and write to files**, making data persistent and enabling interaction with external data.\n",
        "\n",
        "---\n",
        "\n",
        "## 1. Opening Files\n",
        "\n",
        "- Python uses the `open()` function to open files.\n",
        "- Syntax:  \n",
        "```python\n",
        "file = open(\"filename.txt\", \"mode\")\n"
      ],
      "metadata": {
        "id": "xeQ7e5jFrxMg"
      }
    },
    {
      "cell_type": "markdown",
      "source": [
        "## Modes:\n",
        "\n",
        "- \"r\" → read (default), file must exist\n",
        "\n",
        "- \"w\" → write, creates new file or overwrites\n",
        "\n",
        "- \"a\" → append, adds data to end of file\n",
        "\n",
        "- \"r+\" → read and write\n",
        "\n",
        "- \"b\" → binary mode (e.g., \"rb\", \"wb\")"
      ],
      "metadata": {
        "id": "4dz9_PW-rzJn"
      }
    },
    {
      "cell_type": "code",
      "source": [
        "file = open(\"/content/example.txt\", \"w\")\n",
        "file.write(\"Hello, Python!\")\n",
        "file.close() #✅ Always close files after use or use with statement."
      ],
      "metadata": {
        "id": "E50FkmzSrzmb"
      },
      "execution_count": 1,
      "outputs": []
    },
    {
      "cell_type": "markdown",
      "source": [
        "##2. Using with Statement (Best Practice)\n",
        "\n",
        "Automatically closes the file after block execution."
      ],
      "metadata": {
        "id": "wHlQJVzTsnLN"
      }
    },
    {
      "cell_type": "code",
      "source": [
        "with open(\"/content/example.txt\", \"r\") as file:\n",
        "    content = file.read()\n",
        "    print(content)\n"
      ],
      "metadata": {
        "colab": {
          "base_uri": "https://localhost:8080/"
        },
        "id": "3E8_SJxvspF4",
        "outputId": "7c550548-f8b1-40a1-deab-a3c54393afb8"
      },
      "execution_count": 3,
      "outputs": [
        {
          "output_type": "stream",
          "name": "stdout",
          "text": [
            "Hello, Python!\n"
          ]
        }
      ]
    },
    {
      "cell_type": "markdown",
      "source": [
        "##Methods to read:\n",
        "\n",
        "read() → entire file as string\n",
        "\n",
        "readline() → reads one line at a time\n",
        "\n",
        "readlines() → reads all lines as a list"
      ],
      "metadata": {
        "id": "5Pc2mJt6s2Tq"
      }
    },
    {
      "cell_type": "markdown",
      "source": [
        "##Writing data:\n",
        "\n",
        "- Overwriting the File : Using mode \"w\" will erase all existing content in the file and write new content."
      ],
      "metadata": {
        "id": "lLho0gdUs6xF"
      }
    },
    {
      "cell_type": "code",
      "source": [
        "with open(\"example.txt\", \"w\") as file:\n",
        "    file.write(\"Python is fun!\\n\")\n",
        "    file.write(\"File handling example.\")\n",
        "    print(\"Data written to the file.\")\n"
      ],
      "metadata": {
        "colab": {
          "base_uri": "https://localhost:8080/"
        },
        "id": "e8KzTveds4dC",
        "outputId": "b29cf288-8495-4521-b4c9-7283eeaeee88"
      },
      "execution_count": 5,
      "outputs": [
        {
          "output_type": "stream",
          "name": "stdout",
          "text": [
            "Data written to the file.\n"
          ]
        }
      ]
    },
    {
      "cell_type": "markdown",
      "source": [
        "- Appending to the File : Using mode \"a\" (append) will add new content at the end of the existing file without deleting previous content."
      ],
      "metadata": {
        "id": "YXFA2OLktkCZ"
      }
    },
    {
      "cell_type": "code",
      "source": [
        "# Append example\n",
        "with open(\"example.txt\", \"a\") as file:\n",
        "    file.write(\"\\nThis line is appended.\")\n",
        "    file.write(\"\\nAnother appended line.\")\n"
      ],
      "metadata": {
        "id": "i-sg-OxDtoEj"
      },
      "execution_count": 6,
      "outputs": []
    },
    {
      "cell_type": "markdown",
      "source": [
        "## Example: Reading old content and adding new content\n",
        "\n",
        "Sometimes you may want to read existing content and then add something"
      ],
      "metadata": {
        "id": "ZoSN6pK8tvlE"
      }
    },
    {
      "cell_type": "code",
      "source": [
        "with open(\"example.txt\", \"r\") as file:\n",
        "    old_content = file.read()\n",
        "\n",
        "with open(\"example.txt\", \"a\") as file:\n",
        "    file.write(\"\\nNew content after reading old content.\")\n",
        "\n",
        "print(\"Old content was:\")\n",
        "print(old_content)\n"
      ],
      "metadata": {
        "colab": {
          "base_uri": "https://localhost:8080/"
        },
        "id": "TNTEu87btyzy",
        "outputId": "aa72f3a7-0ff8-48c5-a8ab-f711d78de2aa"
      },
      "execution_count": 8,
      "outputs": [
        {
          "output_type": "stream",
          "name": "stdout",
          "text": [
            "Old content was:\n",
            "Python is fun!\n",
            "File handling example.\n",
            "This line is appended.\n",
            "Another appended line.\n",
            "New content after reading old content.\n"
          ]
        }
      ]
    },
    {
      "cell_type": "markdown",
      "source": [
        "##3. Handling CSV Files\n",
        "\n",
        "CSV files store tabular data (comma-separated values).\n",
        "\n",
        "Use Python’s csv module."
      ],
      "metadata": {
        "id": "Ek8PV0P_t9yW"
      }
    },
    {
      "cell_type": "code",
      "source": [
        "import csv\n",
        "\n",
        "# Writing CSV\n",
        "with open(\"students.csv\", \"w\", newline=\"\") as csvfile:\n",
        "    writer = csv.writer(csvfile)\n",
        "    writer.writerow([\"Name\", \"Marks\"])\n",
        "    writer.writerow([\"Alice\", 85])\n",
        "    writer.writerow([\"Bob\", 92])\n",
        "\n",
        "# Reading CSV\n",
        "with open(\"students.csv\", \"r\") as csvfile:\n",
        "    reader = csv.reader(csvfile)\n",
        "    for row in reader:\n",
        "        print(row)\n"
      ],
      "metadata": {
        "colab": {
          "base_uri": "https://localhost:8080/"
        },
        "id": "dr7RzRdbuBK7",
        "outputId": "ad50651a-9848-436e-ebfe-027b26cdd968"
      },
      "execution_count": 9,
      "outputs": [
        {
          "output_type": "stream",
          "name": "stdout",
          "text": [
            "['Name', 'Marks']\n",
            "['Alice', '85']\n",
            "['Bob', '92']\n"
          ]
        }
      ]
    },
    {
      "cell_type": "markdown",
      "source": [
        "##4. Exception Handling in File Operations\n",
        "\n",
        "File operations can raise errors (e.g., file not found, permission error).\n",
        "\n",
        "Use try-except-finally to handle exceptions."
      ],
      "metadata": {
        "id": "PPzOFY51uOeo"
      }
    },
    {
      "cell_type": "code",
      "source": [
        "try:\n",
        "    with open(\"grades.txt\", \"r\") as file:\n",
        "        content = file.read()\n",
        "        print(content)\n",
        "except FileNotFoundError:\n",
        "    print(\"File does not exist!\")\n",
        "finally:\n",
        "    print(\"Execution completed.\")\n"
      ],
      "metadata": {
        "colab": {
          "base_uri": "https://localhost:8080/"
        },
        "id": "ok6vsXqAuR3J",
        "outputId": "b021610b-87ca-44ef-de71-6671ef61b939"
      },
      "execution_count": 10,
      "outputs": [
        {
          "output_type": "stream",
          "name": "stdout",
          "text": [
            "File does not exist!\n",
            "Execution completed.\n"
          ]
        }
      ]
    },
    {
      "cell_type": "markdown",
      "source": [
        "##5. Practice Exercise: Read Student Marks and Calculate Average"
      ],
      "metadata": {
        "id": "w6r9L7GluaOS"
      }
    },
    {
      "cell_type": "code",
      "source": [
        "# Sample file: students.txt\n",
        "# Alice,85\n",
        "# Bob,90\n",
        "# Charlie,78\n",
        "\n",
        "total_marks = 0\n",
        "count = 0\n",
        "\n",
        "with open(\"/content/students.csv\", \"r\") as file:\n",
        "    next(file)  # skip the first line (header)\n",
        "    for line in file:\n",
        "        Name, Marks = line.strip().split(\",\")\n",
        "        total_marks += int(Marks)\n",
        "        count += 1\n",
        "\n",
        "average = total_marks / count\n",
        "print(\"Average marks:\", average)\n"
      ],
      "metadata": {
        "colab": {
          "base_uri": "https://localhost:8080/"
        },
        "id": "tqfAO1ICucjp",
        "outputId": "bd696ff1-a952-40fa-83d5-7f60566759ce"
      },
      "execution_count": 20,
      "outputs": [
        {
          "output_type": "stream",
          "name": "stdout",
          "text": [
            "Average marks: 88.5\n"
          ]
        }
      ]
    }
  ]
}