{
  "nbformat": 4,
  "nbformat_minor": 0,
  "metadata": {
    "colab": {
      "provenance": [],
      "authorship_tag": "ABX9TyPiRUm4ons53mI5c14Um7h0",
      "include_colab_link": true
    },
    "kernelspec": {
      "name": "python3",
      "display_name": "Python 3"
    },
    "language_info": {
      "name": "python"
    }
  },
  "cells": [
    {
      "cell_type": "markdown",
      "metadata": {
        "id": "view-in-github",
        "colab_type": "text"
      },
      "source": [
        "<a href=\"https://colab.research.google.com/github/anand25116/Python/blob/main/python2.ipynb\" target=\"_parent\"><img src=\"https://colab.research.google.com/assets/colab-badge.svg\" alt=\"Open In Colab\"/></a>"
      ]
    },
    {
      "cell_type": "markdown",
      "source": [
        "# Step 2: Advanced Flow Control\n",
        "\n",
        "This step covers **nested if-else**, **loops with break/continue/else**, looping through collections, and comprehensions.\n",
        "\n",
        "---\n",
        "\n",
        "## Nested if-else\n",
        "- Allows making decisions **inside another decision**.\n",
        "- Structure:\n",
        "  ```python\n",
        "  if condition1:\n",
        "      if condition2:\n",
        "          # do something\n",
        "      else:\n",
        "          # do something else\n",
        "  else:\n",
        "      # alternative action\n",
        "\n",
        "Key point: Inner if-else executes only if the outer condition is True.\n",
        "\n",
        "##Loops with break, continue, and else\n",
        "\n",
        "- break → exits the loop immediately.\n",
        "\n",
        "-continue → skips the current iteration and moves to the next.\n",
        "\n",
        "- else with loops → executes only if the loop finishes normally (no break).\n",
        "\n",
        "Example:"
      ],
      "metadata": {
        "id": "DKtaYM9hOl7J"
      }
    },
    {
      "cell_type": "code",
      "execution_count": 5,
      "metadata": {
        "colab": {
          "base_uri": "https://localhost:8080/"
        },
        "id": "FxlLe-BFOlZI",
        "outputId": "99af9ab3-c290-4797-8f7c-4eb3d3d77a5e"
      },
      "outputs": [
        {
          "output_type": "stream",
          "name": "stdout",
          "text": [
            "0\n",
            "1\n",
            "0\n",
            "1\n"
          ]
        }
      ],
      "source": [
        "for i in range(5):\n",
        "    if i == 2:\n",
        "        break\n",
        "    print(i)\n",
        "else:\n",
        "    print(\"Loop finished normally\")\n",
        "\n",
        "for j in range(3):\n",
        "      if j == 2:\n",
        "        continue\n",
        "      print(j)"
      ]
    },
    {
      "cell_type": "markdown",
      "source": [
        "## Looping through collections\n",
        "\n",
        "- Iterate through dictionaries using .items():"
      ],
      "metadata": {
        "id": "uZNojcAtPYUZ"
      }
    },
    {
      "cell_type": "code",
      "source": [
        "my_dict = {\"a\": 1, \"b\": 2}\n",
        "for key, value in my_dict.items():\n",
        "    print(key,\"->\", value)\n"
      ],
      "metadata": {
        "colab": {
          "base_uri": "https://localhost:8080/"
        },
        "id": "Rs4KdrKiPcEF",
        "outputId": "ceaa870b-9310-41b6-d598-cf9189ce76a2"
      },
      "execution_count": 7,
      "outputs": [
        {
          "output_type": "stream",
          "name": "stdout",
          "text": [
            "a -> 1\n",
            "b -> 2\n"
          ]
        }
      ]
    },
    {
      "cell_type": "markdown",
      "source": [
        "##Comprehensions\n",
        "\n",
        "- List comprehension: create lists concisely.\n",
        "- Set comprehension: create sets.\n",
        "- Dictionary comprehension: create dictionaries."
      ],
      "metadata": {
        "id": "tMInCGOsPumH"
      }
    },
    {
      "cell_type": "code",
      "source": [
        "even_numbers = [x for x in range(10) if x % 2 == 0]\n",
        "print(even_numbers)\n",
        "unique_squares = {x**2 for x in range(5)}\n",
        "print(unique_squares)\n",
        "square_dict = {x: x**2 for x in range(5)}\n",
        "print(square_dict)\n"
      ],
      "metadata": {
        "colab": {
          "base_uri": "https://localhost:8080/"
        },
        "id": "HrR7npW4P5qC",
        "outputId": "ec499106-df65-4456-f1c7-84e01a49ea0a"
      },
      "execution_count": 9,
      "outputs": [
        {
          "output_type": "stream",
          "name": "stdout",
          "text": [
            "[0, 2, 4, 6, 8]\n",
            "{0, 1, 4, 9, 16}\n",
            "{0: 0, 1: 1, 2: 4, 3: 9, 4: 16}\n"
          ]
        }
      ]
    },
    {
      "cell_type": "markdown",
      "source": [
        "# Step 3: Functions (Deep Dive)\n",
        "\n",
        "This step covers **functions in Python** with details about parameters, return values, default arguments, *args, **kwargs, and lambda functions.\n",
        "\n",
        "---\n",
        "\n",
        "## 1. Functions Overview\n",
        "- Functions are **blocks of reusable code** that perform a specific task.  \n",
        "- Defined using the `def` keyword:  \n",
        "  ```python\n",
        "  def function_name(parameters):\n",
        "      # code block\n",
        "      return result\n",
        "\n",
        "---\n",
        "## Benefits\n",
        "- Reusability\n",
        "- Modularity\n",
        "- Easier debugging and maintenance"
      ],
      "metadata": {
        "id": "pkzMcjQ5RF-2"
      }
    },
    {
      "cell_type": "markdown",
      "source": [
        "## 2. Parameters & Return Values\n",
        "\n",
        "- Parameters: inputs to the function.\n",
        "\n",
        "- Return values: outputs of the function using the return keyword.\n"
      ],
      "metadata": {
        "id": "qJke51McRwJW"
      }
    },
    {
      "cell_type": "code",
      "source": [
        "def greet(name):\n",
        "    return f\"Hello, {name}!\"\n",
        "\n",
        "message = greet(\"Anand\")\n",
        "print(message)  # Output: Hello, Anand!\n"
      ],
      "metadata": {
        "colab": {
          "base_uri": "https://localhost:8080/"
        },
        "id": "DhVWVIqeR4pd",
        "outputId": "d5b5d6d4-ad54-48e5-9c0d-0e30760e453f"
      },
      "execution_count": 10,
      "outputs": [
        {
          "output_type": "stream",
          "name": "stdout",
          "text": [
            "Hello, Anand!\n"
          ]
        }
      ]
    },
    {
      "cell_type": "markdown",
      "source": [
        " ## 3. Default Arguments & Keyword Arguments\n",
        "\n",
        "- Default arguments: assign default values to parameters if none are provided.\n",
        "\n",
        "- Keyword arguments: pass values using parameter names for clarity."
      ],
      "metadata": {
        "id": "3uq8DjA_R6no"
      }
    },
    {
      "cell_type": "code",
      "source": [
        "def greet(name=\"Guest\", greeting=\"Hello\"):\n",
        "    return f\"{greeting}, {name}!\"\n",
        "\n",
        "message1 = greet()  # Output: Hello, Guest!\n",
        "message2 = greet(\"Anand\", \"Hi\")  # Output: Hi, Anand!\n",
        "print(message1)\n",
        "print(message2)"
      ],
      "metadata": {
        "colab": {
          "base_uri": "https://localhost:8080/"
        },
        "id": "MxE0qOQ2R_1N",
        "outputId": "fb8d38f9-f649-4efa-ee2c-df221d0c9aec"
      },
      "execution_count": 12,
      "outputs": [
        {
          "output_type": "stream",
          "name": "stdout",
          "text": [
            "Hello, Guest!\n",
            "Hi, Anand!\n"
          ]
        }
      ]
    },
    {
      "cell_type": "markdown",
      "source": [
        "## 4. *args and **kwargs\n",
        "\n",
        "- *args: allows passing a variable number of positional arguments (stored as a tuple).\n",
        "\n",
        "- **kwargs: allows passing a variable number of keyword arguments (stored as a dictionary)."
      ],
      "metadata": {
        "id": "8pLn_JiASe2R"
      }
    },
    {
      "cell_type": "code",
      "source": [
        "def summarize(*args, **kwargs):\n",
        "    print(\"Positional arguments:\", args)\n",
        "    print(\"Keyword arguments:\", kwargs)\n",
        "\n",
        "summarize(1, 2, 3, name=\"Anand\", age=25)\n"
      ],
      "metadata": {
        "colab": {
          "base_uri": "https://localhost:8080/"
        },
        "id": "ZKNX9Gg9S8TQ",
        "outputId": "a871abfe-643b-4f6f-8f1e-997bacc066c9"
      },
      "execution_count": 13,
      "outputs": [
        {
          "output_type": "stream",
          "name": "stdout",
          "text": [
            "Positional arguments: (1, 2, 3)\n",
            "Keyword arguments: {'name': 'Anand', 'age': 25}\n"
          ]
        }
      ]
    },
    {
      "cell_type": "markdown",
      "source": [
        "## 5. Lambda Functions\n",
        "\n",
        "- **Definition:**  \n",
        "  Lambda functions are **anonymous functions**, meaning they **do not require a name**.  \n",
        "  They are typically used for **small, one-line operations**.\n",
        "\n",
        "- **Syntax:**  \n",
        "  ```python\n",
        "  lambda parameters: expression\n",
        "  Key Points:\n",
        "\n",
        "- Can take any number of parameters but can only have one expression.\n",
        "\n",
        "- The result of the expression is automatically returned; no need for return keyword.\n",
        "\n",
        "- Often used with higher-order functions like map(), filter(), and sorted().\n"
      ],
      "metadata": {
        "id": "Oe1wOGxVTJ-5"
      }
    },
    {
      "cell_type": "code",
      "source": [
        "# List of numbers\n",
        "numbers = [1, 2, 3, 4, 5, 6, 7, 8, 9, 10]\n",
        "\n",
        "# 1. Using lambda with map() to get squares of numbers\n",
        "squares = list(map(lambda x: x**2, numbers))\n",
        "print(\"Squares:\", squares)\n",
        "\n",
        "# 2. Using lambda with filter() to get even numbers\n",
        "even_numbers = list(filter(lambda x: x % 2 == 0, numbers))\n",
        "print(\"Even numbers:\", even_numbers)\n",
        "\n",
        "# 3. Using lambda for custom sorting\n",
        "# Sorting numbers by their remainder when divided by 3\n",
        "sorted_by_remainder = sorted(numbers, key=lambda x: x % 3)\n",
        "print(\"Sorted by remainder when divided by 3:\", sorted_by_remainder)\n",
        "\n",
        "# 4. Using lambda for a quick anonymous function\n",
        "add_five = lambda x: x + 5\n",
        "print(\"Add 5 to 10:\", add_five(10))\n",
        "\n"
      ],
      "metadata": {
        "colab": {
          "base_uri": "https://localhost:8080/"
        },
        "id": "5W8iZ5V2TPnH",
        "outputId": "74db6be4-e744-4e0a-fec4-7952eb16014b"
      },
      "execution_count": 14,
      "outputs": [
        {
          "output_type": "stream",
          "name": "stdout",
          "text": [
            "Squares: [1, 4, 9, 16, 25, 36, 49, 64, 81, 100]\n",
            "Even numbers: [2, 4, 6, 8, 10]\n",
            "Sorted by remainder when divided by 3: [3, 6, 9, 1, 4, 7, 10, 2, 5, 8]\n",
            "Add 5 to 10: 15\n"
          ]
        }
      ]
    },
    {
      "cell_type": "markdown",
      "source": [
        "## 6. Practice Exercise\n",
        "\n",
        "- Task: Write a function calculate_stats(numbers) that returns sum, mean, and max of a list."
      ],
      "metadata": {
        "id": "adzf7oO9UDQT"
      }
    },
    {
      "cell_type": "code",
      "source": [
        "numbers = [1, 2, 3, 4, 5]\n",
        "def calculate_stats(numbers):\n",
        "    total = sum(numbers)\n",
        "    mean = total / len(numbers)\n",
        "    maximum = max(numbers)\n",
        "    return total, mean, maximum\n",
        "\n",
        "total, mean, maximum = calculate_stats(numbers)\n",
        "print(\"Sum: \",total,\"Mean:\" ,mean, \"Max:\" ,maximum)\n",
        "print(f\"Sum: {total}, Mean: {mean}, Max: {maximum}\") # Both ways to write print"
      ],
      "metadata": {
        "colab": {
          "base_uri": "https://localhost:8080/"
        },
        "id": "MeKgna3pU7ep",
        "outputId": "a563e0b6-4d1f-4aac-81ad-8894ce898a3c"
      },
      "execution_count": 22,
      "outputs": [
        {
          "output_type": "stream",
          "name": "stdout",
          "text": [
            "Sum:  15 Mean: 3.0 Max: 5\n",
            "Sum: 15, Mean: 3.0, Max: 5\n"
          ]
        }
      ]
    },
    {
      "cell_type": "markdown",
      "source": [
        "# Step 4: Modules and Packages\n",
        "\n",
        "Modules and packages help organize Python code, **reuse functionality**, and access built-in or third-party features.\n",
        "\n",
        "---\n",
        "\n",
        "## 1. Importing Modules\n",
        "\n",
        "Python has many **built-in modules** like `math`, `random`, `datetime`.  \n",
        "You can import them in different ways:\n",
        "\n",
        "### a) Import the whole module\n"
      ],
      "metadata": {
        "id": "-jMvmomLVdOM"
      }
    },
    {
      "cell_type": "code",
      "source": [
        "import math\n",
        "\n",
        "print(\"Square root of 16:\", math.sqrt(16))\n",
        "print(\"Value of pi:\", math.pi)"
      ],
      "metadata": {
        "colab": {
          "base_uri": "https://localhost:8080/"
        },
        "id": "6zyNpzlDVite",
        "outputId": "21706054-bda0-44e2-bc31-3d407f35b1d3"
      },
      "execution_count": 23,
      "outputs": [
        {
          "output_type": "stream",
          "name": "stdout",
          "text": [
            "Square root of 16: 4.0\n",
            "Value of pi: 3.141592653589793\n"
          ]
        }
      ]
    },
    {
      "cell_type": "markdown",
      "source": [
        "##b) Import specific functions or constants"
      ],
      "metadata": {
        "id": "comMtJeyVnk7"
      }
    },
    {
      "cell_type": "code",
      "source": [
        "from math import sqrt, pi\n",
        "\n",
        "print(\"Square root of 25:\", sqrt(25))\n",
        "print(\"Value of pi:\", pi)\n"
      ],
      "metadata": {
        "colab": {
          "base_uri": "https://localhost:8080/"
        },
        "id": "i71MlL4CVnVH",
        "outputId": "ad7e0dc4-467f-427c-bf13-ce85bb478641"
      },
      "execution_count": 24,
      "outputs": [
        {
          "output_type": "stream",
          "name": "stdout",
          "text": [
            "Square root of 25: 5.0\n",
            "Value of pi: 3.141592653589793\n"
          ]
        }
      ]
    },
    {
      "cell_type": "markdown",
      "source": [
        "## c) Use alias for a module"
      ],
      "metadata": {
        "id": "Bi4EmQG4V0ow"
      }
    },
    {
      "cell_type": "code",
      "source": [
        "import random as rnd\n",
        "print(\"random roll\",rnd.randint(1,6))\n"
      ],
      "metadata": {
        "colab": {
          "base_uri": "https://localhost:8080/"
        },
        "id": "aFUSvjFrV0RQ",
        "outputId": "2b8e8bcc-8afb-4d3b-d1e2-1cb1c5a38460"
      },
      "execution_count": 34,
      "outputs": [
        {
          "output_type": "stream",
          "name": "stdout",
          "text": [
            "random roll 3\n"
          ]
        }
      ]
    },
    {
      "cell_type": "markdown",
      "source": [
        "## 2. Writing Your Own Module\n",
        "\n",
        "A **module** in Python is a file containing Python code—functions, classes, or variables—that can be **reused in other programs**. Creating your own modules helps you **organize code, avoid repetition, and maintain larger projects more efficiently**.\n",
        "\n",
        "### Key Points:\n",
        "\n",
        "1. **File Creation**\n",
        "   - A module is simply a `.py` file.\n",
        "   - Example: `mymodule.py` can contain your functions, classes, or constants.\n",
        "\n",
        "2. **Defining Functions or Classes**\n",
        "   - You can define **functions** inside your module:\n",
        "     ```python\n",
        "     def add(a, b):\n",
        "         return a + b\n",
        "     ```\n",
        "   - Or define **classes**:\n",
        "     ```python\n",
        "     class Calculator:\n",
        "         def multiply(self, x, y):\n",
        "             return x * y\n",
        "     ```\n",
        "\n",
        "3. **Importing Your Module**\n",
        "   - Use `import module_name` to access your module in another Python file or notebook.\n",
        "   - Example: `import mymodule`  \n",
        "     - Access a function: `mymodule.add(5, 3)`  \n",
        "     - Access a class:  \n",
        "       ```python\n",
        "       calc = mymodule.Calculator()\n",
        "       calc.multiply(4, 6)\n",
        "       ```\n",
        "\n",
        "4. **Aliasing**\n",
        "   - You can give a module a short name for convenience:\n",
        "     ```python\n",
        "     import mymodule as mm\n",
        "     mm.add(10, 5)\n",
        "     ```\n",
        "\n",
        "5. **Practical Tips**\n",
        "   - Keep modules **small and focused**—one module for related functionality.\n",
        "   - Avoid running code directly in modules; define **functions/classes** instead.\n",
        "   - In Colab, you can **upload the `.py` file** and import it directly.\n",
        "\n",
        "### Benefits of Creating Your Own Module\n",
        "- **Code Reusability:** Use the same code across multiple projects.  \n",
        "- **Better Organization:** Keep related functions/classes together.  \n",
        "- **Easy Maintenance:** Fix a bug or update logic in one place, and all scripts using the module are updated.  \n",
        "- **Collaboration:** Share modules with teammates without sharing the entire project.\n",
        "\n",
        "> ✅ In short: A module is a **Python file designed for reuse**, and importing it allows you to **access its functions, classes, and variables** in any other program.\n"
      ],
      "metadata": {
        "id": "A1t8YFSzWGif"
      }
    },
    {
      "cell_type": "markdown",
      "source": [
        "##3. Using pip to Install External Packages\n",
        "\n",
        "- pip is Python’s package manager for installing third-party libraries.\n",
        "\n"
      ],
      "metadata": {
        "id": "qBfEviZIpE23"
      }
    },
    {
      "cell_type": "code",
      "source": [
        "!pip install numpy"
      ],
      "metadata": {
        "colab": {
          "base_uri": "https://localhost:8080/"
        },
        "id": "ldWO8ThYpNPI",
        "outputId": "ce5f94b2-425f-45c3-ffc3-d42886427c1b"
      },
      "execution_count": 35,
      "outputs": [
        {
          "output_type": "stream",
          "name": "stdout",
          "text": [
            "Requirement already satisfied: numpy in /usr/local/lib/python3.12/dist-packages (2.0.2)\n"
          ]
        }
      ]
    },
    {
      "cell_type": "code",
      "source": [
        "import numpy as np\n",
        "\n",
        "arr = np.array([1, 2, 3, 4, 5])\n",
        "print(\"Array:\", arr)\n",
        "print(\"Mean of array:\", np.mean(arr))\n"
      ],
      "metadata": {
        "colab": {
          "base_uri": "https://localhost:8080/"
        },
        "id": "Whtg9_cJpXO1",
        "outputId": "75d706b6-9275-4a09-fb5b-b207941ddb9c"
      },
      "execution_count": 36,
      "outputs": [
        {
          "output_type": "stream",
          "name": "stdout",
          "text": [
            "Array: [1 2 3 4 5]\n",
            "Mean of array: 3.0\n"
          ]
        }
      ]
    },
    {
      "cell_type": "markdown",
      "source": [
        "## 4. Practice Exercise: Dice Roller Simulation\n",
        "\n",
        "- Task: Simulate rolling a dice using the random module."
      ],
      "metadata": {
        "id": "kig6e-SnpWz7"
      }
    },
    {
      "cell_type": "code",
      "source": [
        "import random as rand\n",
        "def roll():\n",
        "  return rand.randint(1,6)\n",
        "for i in range(6):\n",
        "  print(f\"Dice Roll {i+1} : {roll()}\")\n",
        "\n"
      ],
      "metadata": {
        "colab": {
          "base_uri": "https://localhost:8080/"
        },
        "id": "dOmSs2x3p1Rc",
        "outputId": "dafb23a3-0924-421e-cd5b-3795fdd35322"
      },
      "execution_count": 41,
      "outputs": [
        {
          "output_type": "stream",
          "name": "stdout",
          "text": [
            "Dice Roll 1 : 4\n",
            "Dice Roll 2 : 2\n",
            "Dice Roll 3 : 3\n",
            "Dice Roll 4 : 2\n",
            "Dice Roll 5 : 3\n",
            "Dice Roll 6 : 6\n"
          ]
        }
      ]
    }
  ]
}